{
  "cells": [
    {
      "cell_type": "markdown",
      "metadata": {
        "id": "view-in-github",
        "colab_type": "text"
      },
      "source": [
        "<a href=\"https://colab.research.google.com/github/tkdoon/smartphone_test_app/blob/main/yolov7.ipynb\" target=\"_parent\"><img src=\"https://colab.research.google.com/assets/colab-badge.svg\" alt=\"Open In Colab\"/></a>"
      ]
    },
    {
      "cell_type": "markdown",
      "metadata": {
        "id": "XS4Z2rz0tC4H"
      },
      "source": [
        "yolov7"
      ]
    },
    {
      "cell_type": "code",
      "source": [
        "%cd /content"
      ],
      "metadata": {
        "id": "ijN9Ydu9v0a4"
      },
      "execution_count": null,
      "outputs": []
    },
    {
      "cell_type": "code",
      "execution_count": null,
      "metadata": {
        "id": "Ky_0htM5sMmm"
      },
      "outputs": [],
      "source": [
        "!git clone https://github.com/WongKinYiu/yolov7\n",
        "%cd yolov7"
      ]
    },
    {
      "cell_type": "code",
      "execution_count": null,
      "metadata": {
        "id": "77_-OvFBycDq"
      },
      "outputs": [],
      "source": [
        "%cd content/yolov7"
      ]
    },
    {
      "cell_type": "markdown",
      "metadata": {
        "id": "nWTrUIrWypg5"
      },
      "source": [
        "requirements.txtをyamlだけに変えたほうがいいらしい"
      ]
    },
    {
      "cell_type": "code",
      "execution_count": null,
      "metadata": {
        "id": "raHo-5xWxcHl"
      },
      "outputs": [],
      "source": [
        "!pip install -r requirements.txt"
      ]
    },
    {
      "cell_type": "code",
      "execution_count": null,
      "metadata": {
        "id": "_QMEZE5qtfZx"
      },
      "outputs": [],
      "source": [
        "!wget https://github.com/WongKinYiu/yolov7/releases/download/v0.1/yolov7-e6.pt -P ./checkpoints"
      ]
    },
    {
      "cell_type": "markdown",
      "metadata": {
        "id": "4gbgK4cS3VVe"
      },
      "source": [
        "モデルを試すだけ"
      ]
    },
    {
      "cell_type": "code",
      "execution_count": null,
      "metadata": {
        "id": "v2kQDauHtpKn"
      },
      "outputs": [],
      "source": [
        "!python detect.py --source inference/images/horses.jpg \\\n",
        "  --weights checkpoints/yolov7-e6.pt \\\n",
        "  --conf 0.25 --img-size 1280 --device 0\n",
        "from IPython.display import Image\n",
        "Image(\"runs/detect/exp/horses.jpg\")"
      ]
    },
    {
      "cell_type": "markdown",
      "metadata": {
        "id": "clYNkykh4Ovj"
      },
      "source": [
        "マスクした人のデータセット"
      ]
    },
    {
      "cell_type": "code",
      "execution_count": null,
      "metadata": {
        "id": "tVb1GquMy6rT"
      },
      "outputs": [],
      "source": [
        "!mkdir dataset\n",
        "%cd dataset"
      ]
    },
    {
      "cell_type": "code",
      "execution_count": null,
      "metadata": {
        "id": "xp4FAms-2mFA"
      },
      "outputs": [],
      "source": [
        "!curl -L \"https://public.roboflow.com/ds/m07FII2ClC?key=W8TVU9SlqE\" > roboflow.zip; unzip roboflow.zip; rm roboflow.zip"
      ]
    },
    {
      "cell_type": "code",
      "source": [
        "%cd  /content/yolov7"
      ],
      "metadata": {
        "id": "Y2VGS8-El7G5"
      },
      "execution_count": null,
      "outputs": []
    },
    {
      "cell_type": "markdown",
      "source": [
        "dataファルダにmask_wearing.yamlを作り，以下をコピペ[リンクテキスト](https://)\n",
        "\n",
        "\\# train and val data directory\\\n",
        "train: ./dataset/train\n",
        "val: ./dataset/valid\n",
        "\n",
        "\\# number of classes\n",
        "nc: 2\n",
        "\n",
        "\\# class names\n",
        "names: ['1つ目のクラス名', '2つ目のクラス名']\n"
      ],
      "metadata": {
        "id": "GV2JWJ3sm75i"
      }
    },
    {
      "cell_type": "code",
      "execution_count": null,
      "metadata": {
        "id": "yU2ZWdOL4TyZ"
      },
      "outputs": [],
      "source": [
        "!python train.py --workers 2 --batch-size 8 \\\n",
        "  --data data/mask_wearing.yaml \\\n",
        "  --cfg cfg/training/yolov7.yaml \\\n",
        "  --weights 'checkpoints/yolov7.pt' \\\n",
        "  --name yolov7-mask \\\n",
        "  --hyp data/hyp.scratch.p6.yaml \\\n",
        "  --epochs 100 \\\n",
        "  --device 0"
      ]
    },
    {
      "cell_type": "markdown",
      "metadata": {
        "id": "O1J4fURItmIl"
      },
      "source": [
        "yolov5でやってみる\n",
        "\n",
        "**以下，必要なかったよ！**\n",
        "\n",
        "```\n",
        "# これはコードとして書式設定されます\n",
        "```\n",
        "\n"
      ]
    },
    {
      "cell_type": "code",
      "source": [
        "!git clone https://github.com/ultralytics/yolov5"
      ],
      "metadata": {
        "id": "k9hp7PSisTK2"
      },
      "execution_count": null,
      "outputs": []
    },
    {
      "cell_type": "code",
      "source": [
        "%cd /content/yolov5"
      ],
      "metadata": {
        "id": "YSg1KuL8siev"
      },
      "execution_count": null,
      "outputs": []
    },
    {
      "cell_type": "code",
      "source": [
        "!pip install -r requirements.txt"
      ],
      "metadata": {
        "id": "lkkmYCgSsuzB"
      },
      "execution_count": null,
      "outputs": []
    },
    {
      "cell_type": "code",
      "source": [
        "!unzip "
      ],
      "metadata": {
        "id": "K6KM8ctUwMA4"
      },
      "execution_count": null,
      "outputs": []
    },
    {
      "cell_type": "code",
      "source": [
        "!python train.py --img 640 --batch 16 --epochs 3 --data  data.yaml  --weights yolov5s.pt"
      ],
      "metadata": {
        "id": "D5puMJo3tIEM"
      },
      "execution_count": null,
      "outputs": []
    }
  ],
  "metadata": {
    "accelerator": "GPU",
    "colab": {
      "provenance": [],
      "private_outputs": true,
      "authorship_tag": "ABX9TyNupxhtVohglBOTGhRp78FY",
      "include_colab_link": true
    },
    "gpuClass": "standard",
    "kernelspec": {
      "display_name": "Python 3",
      "name": "python3"
    },
    "language_info": {
      "name": "python"
    }
  },
  "nbformat": 4,
  "nbformat_minor": 0
}